{
 "cells": [
  {
   "cell_type": "code",
   "execution_count": 34,
   "id": "7c9c9d4b-8c98-4ec2-bc1d-6a82646428fc",
   "metadata": {},
   "outputs": [],
   "source": [
    "import pickle\n",
    "loaded_model=pickle.load(open(\"finalized_model_LogisticRegression.sav\",'rb'))\n",
    "sc=pickle.load(open(\"sc.pkl\",'rb'))"
   ]
  },
  {
   "cell_type": "code",
   "execution_count": 36,
   "id": "63df9569-0475-4f80-8fa2-70c73a724931",
   "metadata": {},
   "outputs": [],
   "source": [
    "loaded_model=pickle.load(open(\"finalized_model_LogisticRegression.sav\",'rb'))"
   ]
  },
  {
   "cell_type": "code",
   "execution_count": 38,
   "id": "368f383f-79de-463b-a3d5-9d65c7f99cd6",
   "metadata": {},
   "outputs": [],
   "source": [
    "Preinput = sc.fit_transform([[31,70,3.0,3.0,148.1,57.4,3.07,137.5,4.6,12.5,38.86,8408.19,4.7,0,1,1,0,1,0,0,1,0,0,1,1,0,1]])\n",
    "result=loaded_model.predict(Preinput)"
   ]
  },
  {
   "cell_type": "code",
   "execution_count": 40,
   "id": "35922cf2-cb92-4647-9eb2-7af9600b69a4",
   "metadata": {},
   "outputs": [
    {
     "data": {
      "text/plain": [
       "array([1])"
      ]
     },
     "execution_count": 40,
     "metadata": {},
     "output_type": "execute_result"
    }
   ],
   "source": [
    "result"
   ]
  },
  {
   "cell_type": "code",
   "execution_count": null,
   "id": "796f900f-e96f-4ed9-ad96-c42e4e22f027",
   "metadata": {},
   "outputs": [],
   "source": []
  }
 ],
 "metadata": {
  "kernelspec": {
   "display_name": "Python 3 (ipykernel)",
   "language": "python",
   "name": "python3"
  },
  "language_info": {
   "codemirror_mode": {
    "name": "ipython",
    "version": 3
   },
   "file_extension": ".py",
   "mimetype": "text/x-python",
   "name": "python",
   "nbconvert_exporter": "python",
   "pygments_lexer": "ipython3",
   "version": "3.12.7"
  }
 },
 "nbformat": 4,
 "nbformat_minor": 5
}
